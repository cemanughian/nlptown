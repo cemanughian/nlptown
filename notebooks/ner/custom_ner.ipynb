{
 "cells": [
  {
   "cell_type": "markdown",
   "id": "57dcd946-b8bb-478c-943d-3b44253c8652",
   "metadata": {},
   "source": [
    "### Custom NER with spaCy"
   ]
  },
  {
   "cell_type": "markdown",
   "id": "faf71f0e-de8c-4d78-905d-4933cde7325d",
   "metadata": {},
   "source": [
    "Let’s install spacy, spacy-transformers, and start by taking a look at the dataset."
   ]
  },
  {
   "cell_type": "code",
   "execution_count": 13,
   "id": "8b03e203-b2e4-447f-a60a-4ad2d69fd178",
   "metadata": {},
   "outputs": [],
   "source": [
    "# ! pip install spacy[transformers] #  spaCy model pipelines (pretrained BERT, XLNet and GPT-2) that wrap Hugging Face's transformers package, so you can use them in spaCy "
   ]
  },
  {
   "cell_type": "code",
   "execution_count": 14,
   "id": "94859b1c-0fc0-4190-9fed-7b7da70283c1",
   "metadata": {},
   "outputs": [],
   "source": [
    "import spacy\n",
    "from spacy import displacy # displaying NEs\n",
    "import pandas as pd\n",
    "import datasets \n",
    "import json"
   ]
  },
  {
   "cell_type": "code",
   "execution_count": 2,
   "id": "ea3b7914-7bf1-43f5-b04d-a22fe2231f95",
   "metadata": {},
   "outputs": [],
   "source": [
    "nlp = spacy.load(\"en_core_web_md\")"
   ]
  },
  {
   "cell_type": "markdown",
   "id": "8b06c228-d190-4f3a-b6a0-9661b18927ee",
   "metadata": {},
   "source": [
    "#### Problem example"
   ]
  },
  {
   "cell_type": "code",
   "execution_count": 10,
   "id": "142935ca-aff5-43f8-93b5-e3e5bfc5f587",
   "metadata": {},
   "outputs": [
    {
     "data": {
      "text/html": [
       "<span class=\"tex2jax_ignore\"><div class=\"entities\" style=\"line-height: 2.5; direction: ltr\">What video sharing service did \n",
       "<mark class=\"entity\" style=\"background: #aa9cfc; padding: 0.45em 0.6em; margin: 0 0.25em; line-height: 1; border-radius: 0.35em;\">\n",
       "    Steve Chen\n",
       "    <span style=\"font-size: 0.8em; font-weight: bold; line-height: 1; border-radius: 0.35em; vertical-align: middle; margin-left: 0.5rem\">PERSON</span>\n",
       "</mark>\n",
       ", \n",
       "<mark class=\"entity\" style=\"background: #aa9cfc; padding: 0.45em 0.6em; margin: 0 0.25em; line-height: 1; border-radius: 0.35em;\">\n",
       "    Chad Hurley\n",
       "    <span style=\"font-size: 0.8em; font-weight: bold; line-height: 1; border-radius: 0.35em; vertical-align: middle; margin-left: 0.5rem\">PERSON</span>\n",
       "</mark>\n",
       ", and \n",
       "<mark class=\"entity\" style=\"background: #aa9cfc; padding: 0.45em 0.6em; margin: 0 0.25em; line-height: 1; border-radius: 0.35em;\">\n",
       "    Jawed Karim\n",
       "    <span style=\"font-size: 0.8em; font-weight: bold; line-height: 1; border-radius: 0.35em; vertical-align: middle; margin-left: 0.5rem\">PERSON</span>\n",
       "</mark>\n",
       " create in \n",
       "<mark class=\"entity\" style=\"background: #bfe1d9; padding: 0.45em 0.6em; margin: 0 0.25em; line-height: 1; border-radius: 0.35em;\">\n",
       "    2005\n",
       "    <span style=\"font-size: 0.8em; font-weight: bold; line-height: 1; border-radius: 0.35em; vertical-align: middle; margin-left: 0.5rem\">DATE</span>\n",
       "</mark>\n",
       "?</div></span>"
      ],
      "text/plain": [
       "<IPython.core.display.HTML object>"
      ]
     },
     "metadata": {},
     "output_type": "display_data"
    }
   ],
   "source": [
    "text = \"What video sharing service did Steve Chen, Chad Hurley, and Jawed Karim create in 2005?\"\n",
    " \n",
    "displacy.render(nlp(text), style=\"ent\", jupyter=True)"
   ]
  },
  {
   "cell_type": "markdown",
   "id": "486e02df-493d-45ec-b819-bba3d3a2b4a5",
   "metadata": {},
   "source": [
    "Although this RoBERTa-based model achieves state-of-the-art performance on the CoNLL–2003 dataset it was trained on, it doesn’t perform as well on other kinds of text data. \n",
    "For instance, if we try to extract entities from medical journal or other engineering text it won’t detect any relevant information. "
   ]
  },
  {
   "cell_type": "code",
   "execution_count": 9,
   "id": "c3a2e6c4-43b1-404d-9db0-1d4bd027dadf",
   "metadata": {},
   "outputs": [
    {
     "data": {
      "text/html": [
       "<span class=\"tex2jax_ignore\"><div class=\"entities\" style=\"line-height: 2.5; direction: ltr\">Antiretroviral therapy ( ART ) is recommended for all HIV-infected individuals</div></span>"
      ],
      "text/plain": [
       "<IPython.core.display.HTML object>"
      ]
     },
     "metadata": {},
     "output_type": "display_data"
    }
   ],
   "source": [
    "string = \"Antiretroviral therapy ( ART ) is recommended for all HIV-infected individuals\"\n",
    "doc = nlp(string)\n",
    "displacy.render(doc, style=\"ent\", jupyter=True)"
   ]
  },
  {
   "cell_type": "markdown",
   "id": "4aa1cbe7-c8e4-4ca2-97fb-684849cb6fa9",
   "metadata": {},
   "source": [
    "To fix this we’ll need to train our own NER model, and the good thing is that spaCy makes that process very straightforward. "
   ]
  },
  {
   "cell_type": "markdown",
   "id": "071f694d-5d86-46c5-919d-83f709d536ff",
   "metadata": {},
   "source": [
    "#### Loading dataset "
   ]
  },
  {
   "cell_type": "markdown",
   "id": "81628cd3-5869-4014-bde5-b20f55df10e0",
   "metadata": {},
   "source": [
    "To train our custom named entity recognition model, we’ll need some relevant text data with the proper annotations. For the purpose of this tutorial, we’ll be using the medical entities dataset available on Kaggle.\n",
    "\n",
    "<b> We need the text string, the entity start and end indices, and the entity type. </b>"
   ]
  },
  {
   "cell_type": "code",
   "execution_count": 23,
   "id": "160ccff2-067b-48ad-be3a-bdde676c240f",
   "metadata": {},
   "outputs": [],
   "source": [
    "with open('data/archive/Corona2.json', 'r') as f:\n",
    "    data = json.load(f)\n",
    "    \n",
    "# print(data['examples'][0])"
   ]
  },
  {
   "cell_type": "markdown",
   "id": "fb9453db-05c1-40a1-9003-b23c2114cd1e",
   "metadata": {},
   "source": [
    "Define the NE classes, their stop, start and words"
   ]
  },
  {
   "cell_type": "code",
   "execution_count": 26,
   "id": "04d9a604-0059-479b-b448-7673a853f60d",
   "metadata": {},
   "outputs": [
    {
     "name": "stdout",
     "output_type": "stream",
     "text": [
      "{'text': \"While bismuth compounds (Pepto-Bismol) decreased the number of bowel movements in those with travelers' diarrhea, they do not decrease the length of illness.[91] Anti-motility agents like loperamide are also effective at reducing the number of stools but not the duration of disease.[8] These agents should be used only if bloody diarrhea is not present.[92]\\n\\nDiosmectite, a natural aluminomagnesium silicate clay, is effective in alleviating symptoms of acute diarrhea in children,[93] and also has some effects in chronic functional diarrhea, radiation-induced diarrhea, and chemotherapy-induced diarrhea.[45] Another absorbent agent used for the treatment of mild diarrhea is kaopectate.\\n\\nRacecadotril an antisecretory medication may be used to treat diarrhea in children and adults.[86] It has better tolerability than loperamide, as it causes less constipation and flatulence.[94]\", 'entities': [(360, 371, 'MEDICINE'), (383, 408, 'MEDICINE'), (104, 112, 'MEDICALCONDITION'), (679, 689, 'MEDICINE'), (6, 23, 'MEDICINE'), (25, 37, 'MEDICINE'), (461, 470, 'MEDICALCONDITION'), (577, 589, 'MEDICINE'), (853, 865, 'MEDICALCONDITION'), (188, 198, 'MEDICINE'), (754, 762, 'MEDICALCONDITION'), (870, 880, 'MEDICALCONDITION'), (823, 833, 'MEDICINE'), (852, 853, 'MEDICALCONDITION'), (461, 469, 'MEDICALCONDITION'), (535, 543, 'MEDICALCONDITION'), (692, 704, 'MEDICINE'), (563, 571, 'MEDICALCONDITION')]}\n"
     ]
    }
   ],
   "source": [
    "training_data = {'classes' : ['MEDICINE', \"MEDICALCONDITION\", \"PATHOGEN\"], 'annotations' : []}\n",
    "\n",
    "for example in data['examples']:\n",
    "    temp_dict = {}\n",
    "    temp_dict['text'] = example['content']\n",
    "    temp_dict['entities'] = []\n",
    "    for annotation in example['annotations']:\n",
    "        start = annotation['start']\n",
    "        end = annotation['end']\n",
    "        label = annotation['tag_name'].upper()\n",
    "        temp_dict['entities'].append((start, end, label))\n",
    "        training_data['annotations'].append(temp_dict)\n",
    "\n",
    "print(training_data['annotations'][0])"
   ]
  },
  {
   "cell_type": "markdown",
   "id": "ee38722f-2706-4c5a-ba7e-a99b70bb0163",
   "metadata": {},
   "source": [
    "spaCy uses DocBin class for annotated data, so we’ll have to create the DocBin objects for our training examples. This DocBin class efficiently serializes the information from a collection of Doc objects. It is faster and produces smaller data sizes than pickle, and allows the user to deserialize without executing arbitrary Python code."
   ]
  },
  {
   "cell_type": "code",
   "execution_count": 27,
   "id": "95fcc7ae-2af5-4f4d-a30c-6f574a98e85f",
   "metadata": {},
   "outputs": [],
   "source": [
    "from spacy.tokens import DocBin\n",
    "from tqdm import tqdm\n",
    "\n",
    "nlp = spacy.blank(\"en\") # load a new spacy model\n",
    "doc_bin = DocBin() # create a DocBin object"
   ]
  },
  {
   "cell_type": "markdown",
   "id": "c67b94e7-6651-49e8-b404-b4b646aa90e6",
   "metadata": {},
   "source": [
    "There are some entity span overlaps, i.e., the indices of some entities overlap. spaCy provides a utility method filter_spans to deal with this"
   ]
  },
  {
   "cell_type": "code",
   "execution_count": 29,
   "id": "a21146e7-4fd6-467e-a49e-5fb543899e13",
   "metadata": {},
   "outputs": [
    {
     "name": "stderr",
     "output_type": "stream",
     "text": [
      "100%|██████████████████████████████████████████████████████████████| 295/295 [00:00<00:00, 1256.10it/s]\n"
     ]
    }
   ],
   "source": [
    "from spacy.util import filter_spans\n",
    "\n",
    "for training_example  in tqdm(training_data['annotations']): \n",
    "    text = training_example['text']\n",
    "    labels = training_example['entities']\n",
    "    doc = nlp.make_doc(text) \n",
    "    ents = []\n",
    "    for start, end, label in labels:\n",
    "        span = doc.char_span(start, end, label=label, alignment_mode=\"contract\")\n",
    "        if span is None:\n",
    "            #print(\"Skipping entity\")\n",
    "            pass\n",
    "        else:\n",
    "            ents.append(span)\n",
    "    filtered_ents = filter_spans(ents)\n",
    "    doc.ents = filtered_ents \n",
    "    doc_bin.add(doc)\n",
    "\n",
    "doc_bin.to_disk(\"training_data.spacy\") # save the docbin object"
   ]
  },
  {
   "cell_type": "code",
   "execution_count": null,
   "id": "6531fab9-b6dc-416d-abcd-d66659113418",
   "metadata": {},
   "outputs": [],
   "source": []
  },
  {
   "cell_type": "markdown",
   "id": "5178868d-6c0e-40cc-a31e-0b531925d506",
   "metadata": {},
   "source": [
    "Our pipeline needs a config file to run, we'll use the default one from spacy\n",
    "\n",
    "You can manually create a config file as per the use case or quickly create a base config on spaCy’s training quickstart page [here](https://spacy.io/usage/training#quickstart).\n",
    "\n",
    "We’ll be working with a base config file using the quickstart page. This is an incomplete file with only our custom options, so we’ll have to fill in the rest with the default values."
   ]
  },
  {
   "cell_type": "code",
   "execution_count": 42,
   "id": "6715a727-7b7a-4921-9546-2535ed84ad1e",
   "metadata": {},
   "outputs": [],
   "source": [
    "# !python3 -m spacy init config base_config.cfg\n",
    "# Download your base config by checking NER on the link above and saving the file "
   ]
  },
  {
   "cell_type": "code",
   "execution_count": 45,
   "id": "cf291ae7-51ed-40dd-814b-dfc6eda4dc0c",
   "metadata": {},
   "outputs": [
    {
     "name": "stdout",
     "output_type": "stream",
     "text": [
      "\u001b[38;5;2m✔ Auto-filled config with all values\u001b[0m\n",
      "\u001b[38;5;2m✔ Saved config\u001b[0m\n",
      "config.cfg\n",
      "You can now add your data and train your pipeline:\n",
      "python -m spacy train config.cfg --paths.train ./train.spacy --paths.dev ./dev.spacy\n"
     ]
    }
   ],
   "source": [
    "!python3 -m spacy init fill-config base_config.cfg config.cfg # Changes stuff in base config if need be, here nothing needs to be changed so we replace config with baseconfig"
   ]
  },
  {
   "cell_type": "code",
   "execution_count": 44,
   "id": "b01eb155-e971-40f9-8c68-dcef2ba62a61",
   "metadata": {},
   "outputs": [
    {
     "name": "stdout",
     "output_type": "stream",
     "text": [
      "\u001b[38;5;4mℹ Saving to output directory: .\u001b[0m\n",
      "\u001b[38;5;4mℹ Using CPU\u001b[0m\n",
      "\u001b[1m\n",
      "=========================== Initializing pipeline ===========================\u001b[0m\n",
      "[2022-05-20 16:37:37,118] [INFO] Set up nlp object from config\n",
      "[2022-05-20 16:37:37,126] [INFO] Pipeline: ['tok2vec', 'ner']\n",
      "[2022-05-20 16:37:37,128] [INFO] Created vocabulary\n",
      "[2022-05-20 16:37:37,129] [INFO] Finished initializing nlp object\n",
      "[2022-05-20 16:37:38,373] [INFO] Initialized pipeline components: ['tok2vec', 'ner']\n",
      "\u001b[38;5;2m✔ Initialized pipeline\u001b[0m\n",
      "\u001b[1m\n",
      "============================= Training pipeline =============================\u001b[0m\n",
      "\u001b[38;5;4mℹ Pipeline: ['tok2vec', 'ner']\u001b[0m\n",
      "\u001b[38;5;4mℹ Initial learn rate: 0.001\u001b[0m\n",
      "E    #       LOSS TOK2VEC  LOSS NER  ENTS_F  ENTS_P  ENTS_R  SCORE \n",
      "---  ------  ------------  --------  ------  ------  ------  ------\n",
      "  0       0          0.00    169.43    0.00    0.00    0.00    0.00\n",
      "  0     200        154.84   4843.70   54.41   55.09   53.74    0.54\n",
      "  0     400        231.71    793.03   97.10   96.77   97.44    0.97\n",
      "  1     600        203.94    256.62   98.41   98.35   98.47    0.98\n",
      "  1     800        188.40    161.89   98.33   98.19   98.47    0.98\n",
      "  1    1000        232.07    205.54   98.35   98.84   97.87    0.98\n",
      "  2    1200        309.69    219.75   98.35   98.35   98.35    0.98\n",
      "  2    1400        119.66    105.87   98.47   98.10   98.85    0.98\n",
      "  3    1600        505.81    232.66   98.23   98.37   98.08    0.98\n",
      "  3    1800        245.04    235.59   98.27   98.84   97.70    0.98\n",
      "  4    2000        312.07    242.67   98.27   98.46   98.08    0.98\n",
      "  4    2200        193.62    172.93   98.66   98.85   98.47    0.99\n",
      "  5    2400        265.17    248.86   98.66   98.85   98.47    0.99\n",
      "  7    2600        163.11    268.80   98.47   98.47   98.47    0.98\n",
      "  8    2800       1796.58    303.18   98.85   98.85   98.85    0.99\n",
      " 10    3000        266.40    331.53   98.85   98.85   98.85    0.99\n",
      " 12    3200        191.48    344.61   98.85   98.85   98.85    0.99\n",
      " 13    3400        153.83    333.44   98.85   98.85   98.85    0.99\n",
      " 15    3600        166.37    320.65   98.85   98.85   98.85    0.99\n",
      " 17    3800         82.59    301.99   98.85   98.85   98.85    0.99\n",
      " 18    4000         84.86    313.80   98.85   98.48   99.23    0.99\n",
      " 20    4200         95.12    304.24   98.85   98.85   98.85    0.99\n",
      " 22    4400        113.15    297.93   98.85   98.85   98.85    0.99\n",
      " 24    4600        198.58    325.09   98.85   98.48   99.23    0.99\n",
      " 25    4800        193.85    310.13   98.85   99.23   98.47    0.99\n",
      " 27    5000        163.76    274.02   98.85   98.85   98.85    0.99\n",
      " 29    5200        120.26    302.02   98.85   98.85   98.85    0.99\n",
      " 31    5400         67.75    293.45   98.85   98.85   98.85    0.99\n",
      " 32    5600        124.09    266.93   98.85   98.48   99.23    0.99\n",
      "\u001b[38;5;2m✔ Saved pipeline to output directory\u001b[0m\n",
      "model-last\n"
     ]
    }
   ],
   "source": [
    "!python3 -m spacy train config.cfg --output ./ --paths.train ./training_data.spacy --paths.dev ./training_data.spacy #--gpu-id 0"
   ]
  },
  {
   "cell_type": "code",
   "execution_count": 46,
   "id": "765881fb-0edd-4847-a672-73a347717150",
   "metadata": {},
   "outputs": [
    {
     "data": {
      "text/html": [
       "<span class=\"tex2jax_ignore\"><div class=\"entities\" style=\"line-height: 2.5; direction: ltr\">\n",
       "<mark class=\"entity\" style=\"background: #7DF6D9; padding: 0.45em 0.6em; margin: 0 0.25em; line-height: 1; border-radius: 0.35em;\">\n",
       "    Antiretroviral therapy\n",
       "    <span style=\"font-size: 0.8em; font-weight: bold; line-height: 1; border-radius: 0.35em; vertical-align: middle; margin-left: 0.5rem\">MEDICINE</span>\n",
       "</mark>\n",
       " (\n",
       "<mark class=\"entity\" style=\"background: #7DF6D9; padding: 0.45em 0.6em; margin: 0 0.25em; line-height: 1; border-radius: 0.35em;\">\n",
       "    ART\n",
       "    <span style=\"font-size: 0.8em; font-weight: bold; line-height: 1; border-radius: 0.35em; vertical-align: middle; margin-left: 0.5rem\">MEDICINE</span>\n",
       "</mark>\n",
       ") is recommended for all \n",
       "<mark class=\"entity\" style=\"background: #F67DE3; padding: 0.45em 0.6em; margin: 0 0.25em; line-height: 1; border-radius: 0.35em;\">\n",
       "    HIV\n",
       "    <span style=\"font-size: 0.8em; font-weight: bold; line-height: 1; border-radius: 0.35em; vertical-align: middle; margin-left: 0.5rem\">PATHOGEN</span>\n",
       "</mark>\n",
       "-infectedindividuals to reduce the risk of disease progression.</br>\n",
       "<mark class=\"entity\" style=\"background: #7DF6D9; padding: 0.45em 0.6em; margin: 0 0.25em; line-height: 1; border-radius: 0.35em;\">\n",
       "    ART\n",
       "    <span style=\"font-size: 0.8em; font-weight: bold; line-height: 1; border-radius: 0.35em; vertical-align: middle; margin-left: 0.5rem\">MEDICINE</span>\n",
       "</mark>\n",
       " also is recommended for \n",
       "<mark class=\"entity\" style=\"background: #F67DE3; padding: 0.45em 0.6em; margin: 0 0.25em; line-height: 1; border-radius: 0.35em;\">\n",
       "    HIV\n",
       "    <span style=\"font-size: 0.8em; font-weight: bold; line-height: 1; border-radius: 0.35em; vertical-align: middle; margin-left: 0.5rem\">PATHOGEN</span>\n",
       "</mark>\n",
       "-infected individuals for the prevention of transmission of \n",
       "<mark class=\"entity\" style=\"background: #F67DE3; padding: 0.45em 0.6em; margin: 0 0.25em; line-height: 1; border-radius: 0.35em;\">\n",
       "    HIV\n",
       "    <span style=\"font-size: 0.8em; font-weight: bold; line-height: 1; border-radius: 0.35em; vertical-align: middle; margin-left: 0.5rem\">PATHOGEN</span>\n",
       "</mark>\n",
       ".</br>Patients starting \n",
       "<mark class=\"entity\" style=\"background: #7DF6D9; padding: 0.45em 0.6em; margin: 0 0.25em; line-height: 1; border-radius: 0.35em;\">\n",
       "    ART\n",
       "    <span style=\"font-size: 0.8em; font-weight: bold; line-height: 1; border-radius: 0.35em; vertical-align: middle; margin-left: 0.5rem\">MEDICINE</span>\n",
       "</mark>\n",
       " should be willing and able to commit to treatment and understand thebenefits and risks of therapy and the importance of adherence. Patients may chooseto postpone therapy, and providers, on a case-by-case basis, may elect to defertherapy on the basis of clinical and/or psychosocial factors.</div></span>"
      ],
      "text/plain": [
       "<IPython.core.display.HTML object>"
      ]
     },
     "metadata": {},
     "output_type": "display_data"
    }
   ],
   "source": [
    "nlp_ner = spacy.load(\"model-best\")\n",
    "\n",
    "doc = nlp_ner(\"Antiretroviral therapy (ART) is recommended for all HIV-infected\\\n",
    "individuals to reduce the risk of disease progression.\\nART also is recommended \\\n",
    "for HIV-infected individuals for the prevention of transmission of HIV.\\nPatients \\\n",
    "starting ART should be willing and able to commit to treatment and understand the\\\n",
    "benefits and risks of therapy and the importance of adherence. Patients may choose\\\n",
    "to postpone therapy, and providers, on a case-by-case basis, may elect to defer\\\n",
    "therapy on the basis of clinical and/or psychosocial factors.\")\n",
    "\n",
    "colors = {\"PATHOGEN\": \"#F67DE3\", \"MEDICINE\": \"#7DF6D9\", \"MEDICALCONDITION\":\"#FFFFFF\"}\n",
    "options = {\"colors\": colors} \n",
    "\n",
    "spacy.displacy.render(doc, style=\"ent\", options= options, jupyter=True)"
   ]
  },
  {
   "cell_type": "code",
   "execution_count": null,
   "id": "7dd19967-59a2-4ce2-8d96-43477ee0737f",
   "metadata": {},
   "outputs": [],
   "source": []
  },
  {
   "cell_type": "code",
   "execution_count": null,
   "id": "66f4aced-8213-4b0b-b1f3-d41cc2e6238e",
   "metadata": {},
   "outputs": [],
   "source": []
  },
  {
   "cell_type": "markdown",
   "id": "482053d3-8d58-449e-8bca-9a54ff4eb774",
   "metadata": {},
   "source": [
    "#### Custom training"
   ]
  },
  {
   "cell_type": "code",
   "execution_count": null,
   "id": "be807037-69eb-4e00-88fc-adb48b536740",
   "metadata": {},
   "outputs": [],
   "source": []
  },
  {
   "cell_type": "code",
   "execution_count": null,
   "id": "6c9bff57-54d4-452e-be13-72aef8fbceb9",
   "metadata": {},
   "outputs": [],
   "source": []
  },
  {
   "cell_type": "markdown",
   "id": "535b1fda-8745-4d70-b74b-d14611345176",
   "metadata": {},
   "source": [
    "#### References \n",
    "\n",
    "https://newscatcherapi.com/blog/train-custom-named-entity-recognition-ner-model-with-spacy-v3\n",
    "\n",
    "Datasets:https://metatext.io/datasets-list/ner-task"
   ]
  }
 ],
 "metadata": {
  "kernelspec": {
   "display_name": "ner",
   "language": "python",
   "name": "ner"
  },
  "language_info": {
   "codemirror_mode": {
    "name": "ipython",
    "version": 3
   },
   "file_extension": ".py",
   "mimetype": "text/x-python",
   "name": "python",
   "nbconvert_exporter": "python",
   "pygments_lexer": "ipython3",
   "version": "3.8.10"
  }
 },
 "nbformat": 4,
 "nbformat_minor": 5
}
